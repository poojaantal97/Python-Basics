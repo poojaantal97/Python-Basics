{
  "cells": [
    {
      "cell_type": "markdown",
      "source": [
        "#1.What is python, and why is it popular?\n",
        "- python is a widely used high-level programming language created by guido van Rossum in the 1991. Or A programming language to set aof special rules and Symbol that you use to give instructions to a computer .\n",
        "# Why it is popular?\n",
        "- A lot of libraries\n",
        "- Widely used in industry.\n",
        "- Data Industry .\n",
        "- fronted,backent,Data Analysis.\n",
        "- Ease of learning.\n",
        "- Read.\n",
        "- Automation .\n",
        "- continuous development happening\n",
        "- Versatability - wed development ,  MI,....ETC.\n"
      ],
      "metadata": {
        "id": "6TtakAudAqiT"
      }
    },
    {
      "cell_type": "markdown",
      "source": [
        "#2.What is interpreter in python?\n",
        "- A python interpreter is a computer program that fakes the python code and convert it into machine code."
      ],
      "metadata": {
        "id": "TkvCTnu4_6EP"
      }
    },
    {
      "cell_type": "code",
      "source": [
        "a=4\n",
        "b=7\n",
        "print(a+b)"
      ],
      "metadata": {
        "colab": {
          "base_uri": "https://localhost:8080/"
        },
        "id": "AEqRUI_RAVjS",
        "outputId": "101901e5-b370-4bad-ea07-d476ee47c45b"
      },
      "execution_count": null,
      "outputs": [
        {
          "output_type": "stream",
          "name": "stdout",
          "text": [
            "11\n"
          ]
        }
      ]
    },
    {
      "cell_type": "markdown",
      "source": [
        "#3.What are pre-defined keywords in python?\n",
        "- Python keywords are defined and reserved words in python that have special meanings. keywords are used syntax of the coding.The keyword can not be used as an identifier ,functions, or variables name . All the keywords in python are written in lowercase except True and False."
      ],
      "metadata": {
        "id": "09nuI9wK5LA_"
      }
    },
    {
      "cell_type": "code",
      "source": [
        "#pre-defined keywords\n",
        "import keyword\n",
        "print(keyword.kwlist)"
      ],
      "metadata": {
        "colab": {
          "base_uri": "https://localhost:8080/"
        },
        "id": "hkdsUH746lC8",
        "outputId": "1492a955-9abf-4f19-94e2-8c2629bba378"
      },
      "execution_count": null,
      "outputs": [
        {
          "output_type": "stream",
          "name": "stdout",
          "text": [
            "['False', 'None', 'True', 'and', 'as', 'assert', 'async', 'await', 'break', 'class', 'continue', 'def', 'del', 'elif', 'else', 'except', 'finally', 'for', 'from', 'global', 'if', 'import', 'in', 'is', 'lambda', 'nonlocal', 'not', 'or', 'pass', 'raise', 'return', 'try', 'while', 'with', 'yield']\n"
          ]
        }
      ]
    },
    {
      "cell_type": "markdown",
      "source": [
        "#4.Can keywords be used as variable name?\n",
        "- keywords can not be used as variable name."
      ],
      "metadata": {
        "id": "rY8Jxu2v4Ujs"
      }
    },
    {
      "cell_type": "code",
      "source": [
        "#variables should not be keyword.\n",
        "#print(\"hello\")\n",
        "print=\"Ajay\"\n",
        "print(\"world\")\n"
      ],
      "metadata": {
        "colab": {
          "base_uri": "https://localhost:8080/",
          "height": 176
        },
        "id": "wvVoosYN4jxZ",
        "outputId": "89501656-bb18-458b-9552-bdb96d06b85c"
      },
      "execution_count": null,
      "outputs": [
        {
          "output_type": "error",
          "ename": "TypeError",
          "evalue": "'str' object is not callable",
          "traceback": [
            "\u001b[0;31m---------------------------------------------------------------------------\u001b[0m",
            "\u001b[0;31mTypeError\u001b[0m                                 Traceback (most recent call last)",
            "\u001b[0;32m<ipython-input-3-b2b79b1b0b52>\u001b[0m in \u001b[0;36m<cell line: 0>\u001b[0;34m()\u001b[0m\n\u001b[1;32m      2\u001b[0m \u001b[0;31m#print(\"hello\")\u001b[0m\u001b[0;34m\u001b[0m\u001b[0;34m\u001b[0m\u001b[0m\n\u001b[1;32m      3\u001b[0m \u001b[0mprint\u001b[0m\u001b[0;34m=\u001b[0m\u001b[0;34m\"Ajay\"\u001b[0m\u001b[0;34m\u001b[0m\u001b[0;34m\u001b[0m\u001b[0m\n\u001b[0;32m----> 4\u001b[0;31m \u001b[0mprint\u001b[0m\u001b[0;34m(\u001b[0m\u001b[0;34m\"world\"\u001b[0m\u001b[0;34m)\u001b[0m\u001b[0;34m\u001b[0m\u001b[0;34m\u001b[0m\u001b[0m\n\u001b[0m",
            "\u001b[0;31mTypeError\u001b[0m: 'str' object is not callable"
          ]
        }
      ]
    },
    {
      "cell_type": "markdown",
      "source": [
        "#5.What is mutability in Python?\n",
        "- Object/container whose state or value can be changed after they are created called as mutable objects or container , also Called as item assignment .\n"
      ],
      "metadata": {
        "id": "JX51B3WZ3D1N"
      }
    },
    {
      "cell_type": "code",
      "source": [
        "#Mutability example\n",
        "b=\"pwskills\"\n",
        "b"
      ],
      "metadata": {
        "colab": {
          "base_uri": "https://localhost:8080/",
          "height": 36
        },
        "id": "FwkxadxR339e",
        "outputId": "10f489fc-ba38-41f9-894f-4a3267c25771"
      },
      "execution_count": null,
      "outputs": [
        {
          "output_type": "execute_result",
          "data": {
            "text/plain": [
              "'pwskills'"
            ],
            "application/vnd.google.colaboratory.intrinsic+json": {
              "type": "string"
            }
          },
          "metadata": {},
          "execution_count": 6
        }
      ]
    },
    {
      "cell_type": "code",
      "source": [
        "b[0]"
      ],
      "metadata": {
        "colab": {
          "base_uri": "https://localhost:8080/",
          "height": 36
        },
        "id": "0ntSrSYJ4N1u",
        "outputId": "36761c51-153b-4e04-92d8-6979bdccbb24"
      },
      "execution_count": null,
      "outputs": [
        {
          "output_type": "execute_result",
          "data": {
            "text/plain": [
              "'p'"
            ],
            "application/vnd.google.colaboratory.intrinsic+json": {
              "type": "string"
            }
          },
          "metadata": {},
          "execution_count": 7
        }
      ]
    },
    {
      "cell_type": "markdown",
      "source": [
        "#6. Why are lists mutable, but tuples are immutable\n",
        "- Tuples and lists are the same in every way except two: tuples use parentheses instead of square brackets, and the items in tuples cannot be modified (but the items in lists can be modified). We often call lists mutable (meaning they can be changed) and tuples immutable (meaning they cannot be changed)."
      ],
      "metadata": {
        "id": "febgQY1HyodI"
      }
    },
    {
      "cell_type": "code",
      "source": [
        "listval=[1,1,2,3,5,6]\n",
        "tupleval=(1,1,2,3,4,5,6)\n",
        "print(listval)\n",
        "print(tupleval)\n",
        "\n"
      ],
      "metadata": {
        "colab": {
          "base_uri": "https://localhost:8080/"
        },
        "id": "84tYmC11zvqZ",
        "outputId": "afad7eb7-d24c-4121-a64a-318abe2da942"
      },
      "execution_count": null,
      "outputs": [
        {
          "output_type": "stream",
          "name": "stdout",
          "text": [
            "[1, 1, 2, 3, 5, 6]\n",
            "(1, 1, 2, 3, 4, 5, 6)\n"
          ]
        }
      ]
    },
    {
      "cell_type": "markdown",
      "source": [
        "#7. What is the difference between \"==\" and \"is\" operator in python?\n",
        "- Difference between \"==\" and \"is\" operators in python\n",
        "_\"==\" this operator checks for equality of values which means it evaluates whether the value of two objects are the same.\n",
        "_ \"is\" operator checks for identity, meaning it determines whether two variables point to the same object in the memory .\n"
      ],
      "metadata": {
        "id": "9qlFnxJK8Mh-"
      }
    },
    {
      "cell_type": "code",
      "source": [
        "#\"==\" operator example\n",
        "2==2\n",
        "print(2==2)"
      ],
      "metadata": {
        "colab": {
          "base_uri": "https://localhost:8080/"
        },
        "id": "OjErmay6-zfZ",
        "outputId": "818e777d-5737-4d37-e5a6-d3b43058452d"
      },
      "execution_count": null,
      "outputs": [
        {
          "output_type": "stream",
          "name": "stdout",
          "text": [
            "True\n"
          ]
        }
      ]
    },
    {
      "cell_type": "code",
      "source": [
        "# \"is\" operator example\n",
        "a=[2,4]\n",
        "b=a# a is true , because a and b point to the same list objects.\n",
        "print(b)"
      ],
      "metadata": {
        "colab": {
          "base_uri": "https://localhost:8080/"
        },
        "id": "LCLizmaP_o0i",
        "outputId": "53a35e20-c583-4144-b671-ea9049c1277a"
      },
      "execution_count": null,
      "outputs": [
        {
          "output_type": "stream",
          "name": "stdout",
          "text": [
            "[2, 4]\n"
          ]
        }
      ]
    },
    {
      "cell_type": "markdown",
      "source": [
        "#8. What is logical operators in python?\n",
        "- In Python, logical operators, also known as Boolean operators, are used to combine or modify conditions and expressions, ultimately returning a Boolean value (True or False). The primary logical operators are and, or, and not."
      ],
      "metadata": {
        "id": "urQHYpmGAXjP"
      }
    },
    {
      "cell_type": "code",
      "source": [
        "5==5 and 2>1"
      ],
      "metadata": {
        "colab": {
          "base_uri": "https://localhost:8080/"
        },
        "id": "D0CM6h_VBTsT",
        "outputId": "7035f3b2-fe3e-4b7d-83e4-a32afee02a99"
      },
      "execution_count": null,
      "outputs": [
        {
          "output_type": "execute_result",
          "data": {
            "text/plain": [
              "True"
            ]
          },
          "metadata": {},
          "execution_count": 4
        }
      ]
    },
    {
      "cell_type": "code",
      "source": [
        "5>2 or 7>10 or 3==2"
      ],
      "metadata": {
        "colab": {
          "base_uri": "https://localhost:8080/"
        },
        "id": "q2mC1NXfB4PR",
        "outputId": "6b64e578-865e-41c6-8d7e-4f0fa5bbe1f4"
      },
      "execution_count": null,
      "outputs": [
        {
          "output_type": "execute_result",
          "data": {
            "text/plain": [
              "True"
            ]
          },
          "metadata": {},
          "execution_count": 5
        }
      ]
    },
    {
      "cell_type": "markdown",
      "source": [
        "#9.What is type casting in python?\n",
        "- Type casting /type conversion is  the process of changing the data type of a value/ object.\n",
        "\n"
      ],
      "metadata": {
        "id": "QsrqzD7tCCe2"
      }
    },
    {
      "cell_type": "code",
      "source": [
        "#Type casting example\n",
        "a=\"2\"\n",
        "b=4\n",
        "int(a)+b"
      ],
      "metadata": {
        "id": "jHAJGGNIERcu",
        "outputId": "55507de7-d142-4759-9d93-569790ed9de9",
        "colab": {
          "base_uri": "https://localhost:8080/"
        }
      },
      "execution_count": null,
      "outputs": [
        {
          "output_type": "execute_result",
          "data": {
            "text/plain": [
              "6"
            ]
          },
          "metadata": {},
          "execution_count": 7
        }
      ]
    },
    {
      "cell_type": "markdown",
      "source": [
        "#10.What is the difference between implicit and explicit type casting ?\n",
        "- Difference between implicit and explicit type casting\n",
        "\n"
      ],
      "metadata": {
        "id": "APcRuWlcErlA"
      }
    },
    {
      "cell_type": "code",
      "source": [
        "#Implicit type casting >> python understand the data type\n",
        "a=6\n",
        "type(a)"
      ],
      "metadata": {
        "id": "RP5LoXraFn3d",
        "outputId": "b98d25e6-ad76-4953-8275-dd6bab7e83d1",
        "colab": {
          "base_uri": "https://localhost:8080/"
        }
      },
      "execution_count": null,
      "outputs": [
        {
          "output_type": "execute_result",
          "data": {
            "text/plain": [
              "int"
            ]
          },
          "metadata": {},
          "execution_count": 8
        }
      ]
    },
    {
      "cell_type": "code",
      "source": [
        "#explicit type casting >>convert data type using inbuild functional>>str,int,float,bool\n",
        "a=\"4\"\n",
        "type(a)"
      ],
      "metadata": {
        "id": "KH-aYS2hGOcm",
        "outputId": "6598a830-3881-485e-ffde-abfc1a0f26f8",
        "colab": {
          "base_uri": "https://localhost:8080/"
        }
      },
      "execution_count": null,
      "outputs": [
        {
          "output_type": "execute_result",
          "data": {
            "text/plain": [
              "str"
            ]
          },
          "metadata": {},
          "execution_count": 9
        }
      ]
    },
    {
      "cell_type": "markdown",
      "source": [
        "#11.What is the purpose of conditional statements in python ?\n",
        "- Purpose of conditional statements in python\n",
        "Conditional statements in Python are used to certain blocks of code based on specific Conditions .\n",
        "Conditional statement in python like if, elif,and else,allow to control the flow of your program by executing specific code blocks based 9n whether a condition is true or false, enabling dynamic and resonsive programs."
      ],
      "metadata": {
        "id": "fbo0xgVGGrGh"
      }
    },
    {
      "cell_type": "markdown",
      "source": [
        "#12.How does the elif statement work?\n",
        "- The \"elif\" keyword in python , stands for \"else if\" . it can be used in conditional statements to check for multiple Conditions .  for example\n"
      ],
      "metadata": {
        "id": "4RMdh00-JDZq"
      }
    },
    {
      "cell_type": "code",
      "source": [
        "#elif statement example\n",
        "x=12\n",
        "if x>12:\n",
        "  print(\"x is greater than 12\")\n",
        "elif x==12:\n",
        "  print(\"x is equal to 12\")\n",
        "else:\n",
        "  print(\"x is less than 12\")"
      ],
      "metadata": {
        "id": "r9gJVsF9KOvz",
        "outputId": "ecc8e0b5-6f7d-4b7b-ed3d-91d9956e5c02",
        "colab": {
          "base_uri": "https://localhost:8080/"
        }
      },
      "execution_count": null,
      "outputs": [
        {
          "output_type": "stream",
          "name": "stdout",
          "text": [
            "x is equal to 12\n"
          ]
        }
      ]
    },
    {
      "cell_type": "markdown",
      "source": [
        "#13.What is the difference between for and while loops?\n",
        "- A for loop in Python repeats executing a code block from a sequence till certain number of times. Whereas a while loop in Python repeats execution of a code block till the condition is true which is not certain."
      ],
      "metadata": {
        "id": "1gIy6oho2DA1"
      }
    },
    {
      "cell_type": "code",
      "source": [
        "#This for loop won't execute any iterations since there's no iterable to iterate over\n",
        "for i in range(): #range() without arguments doesn't generate any values\n",
        "print(\"This loop won't execute any iterations!\")#Indented this line to be part of the for loop\n",
        "#We can't get any output"
      ],
      "metadata": {
        "colab": {
          "base_uri": "https://localhost:8080/",
          "height": 141
        },
        "id": "Cg6KwXkF3ovM",
        "outputId": "23b64e9b-c63a-4b47-a04e-01531d505fc7"
      },
      "execution_count": null,
      "outputs": [
        {
          "output_type": "error",
          "ename": "IndentationError",
          "evalue": "expected an indented block after 'for' statement on line 2 (<ipython-input-7-9e0798c3b08c>, line 3)",
          "traceback": [
            "\u001b[0;36m  File \u001b[0;32m\"<ipython-input-7-9e0798c3b08c>\"\u001b[0;36m, line \u001b[0;32m3\u001b[0m\n\u001b[0;31m    print(\"This loop won't execute any iterations!\")#Indented this line to be part of the for loop\u001b[0m\n\u001b[0m    ^\u001b[0m\n\u001b[0;31mIndentationError\u001b[0m\u001b[0;31m:\u001b[0m expected an indented block after 'for' statement on line 2\n"
          ]
        }
      ]
    },
    {
      "cell_type": "code",
      "source": [
        "#This while loop will run infinitely since there is no Conditions to stop it\n",
        "n=3\n",
        "i=1\n",
        "while i<n:\n",
        "   print(i)\n",
        "   i=i+1"
      ],
      "metadata": {
        "colab": {
          "base_uri": "https://localhost:8080/"
        },
        "id": "abVwH7Vy8YTz",
        "outputId": "a2d9fb4e-8544-4b77-f3e2-384a369ff7a8"
      },
      "execution_count": null,
      "outputs": [
        {
          "output_type": "stream",
          "name": "stdout",
          "text": [
            "1\n",
            "2\n"
          ]
        }
      ]
    },
    {
      "cell_type": "markdown",
      "source": [
        "#14.Describe a scenario where a while loop is more suitable than a for loop.\n",
        "- In contrast to a 'for' loop, which is generally used when the number of iterations is known beforehand, a 'while' loop is ideal for situations where the number of iterations is not predetermined and depends on some dynamic condition."
      ],
      "metadata": {
        "id": "gGT7I7I692MF"
      }
    },
    {
      "cell_type": "markdown",
      "source": [
        "# Practical questions\n",
        "\n",
        "#1. Write a python program to print \"Hello,World!\""
      ],
      "metadata": {
        "id": "lmqy2dC5-1FJ"
      }
    },
    {
      "cell_type": "code",
      "source": [
        "#Print hello, world\n",
        "print(\"Hello,World!\")"
      ],
      "metadata": {
        "colab": {
          "base_uri": "https://localhost:8080/"
        },
        "id": "7Rau9QV6_H4C",
        "outputId": "cdc82e6d-b362-489f-88bc-e731ba3277d9"
      },
      "execution_count": null,
      "outputs": [
        {
          "output_type": "stream",
          "name": "stdout",
          "text": [
            "Hello,World!\n"
          ]
        }
      ]
    },
    {
      "cell_type": "markdown",
      "source": [
        "#2.Write a Python program that displays your name and age.\n"
      ],
      "metadata": {
        "id": "0sX4Wdjo_7FN"
      }
    },
    {
      "cell_type": "code",
      "source": [
        "#display name age program\n",
        "Name=\"Km Pooja Rani\"\n",
        "Age=31\n",
        "print(\"Hi, my name is\", Name,\"and I am\", Age, \"years old\")"
      ],
      "metadata": {
        "colab": {
          "base_uri": "https://localhost:8080/"
        },
        "id": "ThFD8emd9NNr",
        "outputId": "cb29db19-57bc-4d89-e959-a98faa0cec30"
      },
      "execution_count": null,
      "outputs": [
        {
          "output_type": "stream",
          "name": "stdout",
          "text": [
            "Hi, my name is Km Pooja Rani and I am 31 years old\n"
          ]
        }
      ]
    },
    {
      "cell_type": "markdown",
      "source": [
        "#3.Write code to print all the pre-defined keywords in Python using the keyword library ."
      ],
      "metadata": {
        "id": "XH-Ws7RzGrVk"
      }
    },
    {
      "cell_type": "code",
      "source": [
        "#pre-defined keywords\n",
        "import keyword\n",
        "print(keyword.kwlist)"
      ],
      "metadata": {
        "colab": {
          "base_uri": "https://localhost:8080/"
        },
        "id": "Ww37vKqeHO48",
        "outputId": "d6e30453-bf10-4492-ff77-b992f0ec8690"
      },
      "execution_count": null,
      "outputs": [
        {
          "output_type": "stream",
          "name": "stdout",
          "text": [
            "['False', 'None', 'True', 'and', 'as', 'assert', 'async', 'await', 'break', 'class', 'continue', 'def', 'del', 'elif', 'else', 'except', 'finally', 'for', 'from', 'global', 'if', 'import', 'in', 'is', 'lambda', 'nonlocal', 'not', 'or', 'pass', 'raise', 'return', 'try', 'while', 'with', 'yield']\n"
          ]
        }
      ]
    },
    {
      "cell_type": "markdown",
      "source": [
        "#4.Write a program that checks if a given word is a python keyword."
      ],
      "metadata": {
        "id": "LBqE1CVqH5_v"
      }
    },
    {
      "cell_type": "code",
      "source": [
        "#To check if a given word 'for'is a Python keyword or no\n",
        "import keyword\n",
        "s='for'\n",
        "#To check if a given word 'for'is a Python keyword or no\n",
        "import keyword\n",
        "s='for'\n",
        "if keyword.iskeyword(s):\n",
        "  print(f\"'{s}'is a python keyword.\")\n",
        "else:\n",
        "    print(f\"'{s}'is not a python keyword.\")"
      ],
      "metadata": {
        "colab": {
          "base_uri": "https://localhost:8080/"
        },
        "id": "Sle3_sv-IXJM",
        "outputId": "68effdb4-8dfb-482f-b425-53038d7a9f93"
      },
      "execution_count": null,
      "outputs": [
        {
          "output_type": "stream",
          "name": "stdout",
          "text": [
            "'for'is a python keyword.\n"
          ]
        }
      ]
    },
    {
      "cell_type": "markdown",
      "source": [
        "#5. Create a list and tuples in python, and demonstrate how attempting to change an element works differently for each.\n",
        "- The task of creating a list of tuples in Python involves combining or transforming multiple data elements into a sequence of tuples within a list."
      ],
      "metadata": {
        "id": "56B5Z3CfMq3m"
      }
    },
    {
      "cell_type": "code",
      "source": [
        "#Creat a list\n",
        "my_list= [\"apple\", \"banana\", \"cherry\"]\n",
        "print(\"Original list:\", my_list)\n",
        "#modify the list\n",
        "my_list[1]=\"orange\"\n",
        "print(\"Modified list:\", my_list)\n",
        "#Create a tuple\n",
        "my_tuple=(\"apple\",\"banana\",\"cherry\")\n",
        "print(\"Original tuple:\", my_tuple)\n",
        "#Attempting to modify the tuple(this will raise an error)\n",
        "try:\n",
        "  my_tuple[1]=\"orange\"\n",
        "except TypeError as e:\n",
        "  print(\"Error:\", e)\n"
      ],
      "metadata": {
        "colab": {
          "base_uri": "https://localhost:8080/"
        },
        "id": "M5flVOgQHexO",
        "outputId": "e12418c7-ef54-461c-b942-2834d0024cde"
      },
      "execution_count": null,
      "outputs": [
        {
          "output_type": "stream",
          "name": "stdout",
          "text": [
            "Original list: ['apple', 'banana', 'cherry']\n",
            "Modified list: ['apple', 'orange', 'cherry']\n",
            "Original tuple: ('apple', 'banana', 'cherry')\n",
            "Error: 'tuple' object does not support item assignment\n"
          ]
        }
      ]
    },
    {
      "cell_type": "markdown",
      "source": [
        "#6.Write a function to demonstrate the behavior of mutable and immutable arguments\n",
        "- Here's a Python function demonstrating how mutable and immutable arguments behave when passed to a function, along with explanations:\n",
        "Python\n",
        "\n"
      ],
      "metadata": {
        "id": "bcFlGDrrIoyf"
      }
    },
    {
      "cell_type": "code",
      "source": [
        "#object whose state of value can be change after they are created is called mutable object.\n",
        "#lists is atype of mutable object.\n",
        "list_cont=[1,2,3,3.2,5+7j,True,\"pooja\"]\n",
        "print(list_cont)\n",
        "list_cont[3]=\"apple\"\n",
        "print(list_cont)\n",
        "#object whose state of value can not be change after they are created is called immutable.\n",
        "#strings is a type of immutable object.\n",
        "#immutable example\n",
        "b=\"happylearning\"\n",
        "print(b)\n",
        "b[3]=\"p\"\n",
        "print(b) #this will give an error"
      ],
      "metadata": {
        "colab": {
          "base_uri": "https://localhost:8080/",
          "height": 245
        },
        "id": "JaTjtwzGLzOz",
        "outputId": "30e5f28d-51c8-4f08-a24d-5718e59bfea2"
      },
      "execution_count": null,
      "outputs": [
        {
          "output_type": "stream",
          "name": "stdout",
          "text": [
            "[1, 2, 3, 3.2, (5+7j), True, 'pooja']\n",
            "[1, 2, 3, 'apple', (5+7j), True, 'pooja']\n",
            "happylearning\n"
          ]
        },
        {
          "output_type": "error",
          "ename": "TypeError",
          "evalue": "'str' object does not support item assignment",
          "traceback": [
            "\u001b[0;31m---------------------------------------------------------------------------\u001b[0m",
            "\u001b[0;31mTypeError\u001b[0m                                 Traceback (most recent call last)",
            "\u001b[0;32m<ipython-input-8-9fa0f5d01351>\u001b[0m in \u001b[0;36m<cell line: 0>\u001b[0;34m()\u001b[0m\n\u001b[1;32m     10\u001b[0m \u001b[0mb\u001b[0m\u001b[0;34m=\u001b[0m\u001b[0;34m\"happylearning\"\u001b[0m\u001b[0;34m\u001b[0m\u001b[0;34m\u001b[0m\u001b[0m\n\u001b[1;32m     11\u001b[0m \u001b[0mprint\u001b[0m\u001b[0;34m(\u001b[0m\u001b[0mb\u001b[0m\u001b[0;34m)\u001b[0m\u001b[0;34m\u001b[0m\u001b[0;34m\u001b[0m\u001b[0m\n\u001b[0;32m---> 12\u001b[0;31m \u001b[0mb\u001b[0m\u001b[0;34m[\u001b[0m\u001b[0;36m3\u001b[0m\u001b[0;34m]\u001b[0m\u001b[0;34m=\u001b[0m\u001b[0;34m\"p\"\u001b[0m\u001b[0;34m\u001b[0m\u001b[0;34m\u001b[0m\u001b[0m\n\u001b[0m\u001b[1;32m     13\u001b[0m \u001b[0mprint\u001b[0m\u001b[0;34m(\u001b[0m\u001b[0mb\u001b[0m\u001b[0;34m)\u001b[0m \u001b[0;31m#this will give an error\u001b[0m\u001b[0;34m\u001b[0m\u001b[0;34m\u001b[0m\u001b[0m\n",
            "\u001b[0;31mTypeError\u001b[0m: 'str' object does not support item assignment"
          ]
        }
      ]
    },
    {
      "cell_type": "markdown",
      "source": [
        "#7.Write a function to demonstrate the behavior of mutable and immutable arguments.\n",
        "- Answer is same as question no. #6."
      ],
      "metadata": {
        "id": "bkcfDukMP7eP"
      }
    },
    {
      "cell_type": "markdown",
      "source": [
        "#8.Write a program to demonstrate the use of logical operators.\n"
      ],
      "metadata": {
        "id": "RwmmNyZ_RDkB"
      }
    },
    {
      "cell_type": "code",
      "source": [
        "from ast import operator\n",
        "#logical operators are used to check whether an expression is True or False. They are used in dicision-making.\n",
        "a=5\n",
        "b=6\n",
        "from ast import operator\n",
        "#logical operators are used to check whether an expression is True or False. They are used in dicision-making.\n",
        "a=5\n",
        "b=6\n",
        "print((a>2)and(b<=6))\n",
        "\n",
        "# and operator returns True if both operands are True.\n",
        "# or operator returns True if either of the operands is True.\n",
        "# not operator returns True if operands is False."
      ],
      "metadata": {
        "colab": {
          "base_uri": "https://localhost:8080/"
        },
        "id": "TS86zZaeR5fM",
        "outputId": "432a5a74-4a21-4f6a-f659-6fec30459b07"
      },
      "execution_count": null,
      "outputs": [
        {
          "output_type": "stream",
          "name": "stdout",
          "text": [
            "True\n"
          ]
        }
      ]
    },
    {
      "cell_type": "markdown",
      "source": [
        "#9. Write a python program to convert user input from string to integer , float and boolean types."
      ],
      "metadata": {
        "id": "XuYFvnmlVkIS"
      }
    },
    {
      "cell_type": "code",
      "source": [
        "#convert string into an integer\n",
        "number_str=\"12\"\n",
        "number_int=int(number_str)\n",
        "print(number_int)"
      ],
      "metadata": {
        "colab": {
          "base_uri": "https://localhost:8080/"
        },
        "id": "fXVRfNCrWUbE",
        "outputId": "ddf329f3-ceaa-4507-f501-348ec17cf477"
      },
      "execution_count": null,
      "outputs": [
        {
          "output_type": "stream",
          "name": "stdout",
          "text": [
            "12\n"
          ]
        }
      ]
    },
    {
      "cell_type": "code",
      "source": [
        "#convert string to float\n",
        "number_str=\"11.5\"\n",
        "number_float=float(number_str)\n",
        "print(number_float)"
      ],
      "metadata": {
        "colab": {
          "base_uri": "https://localhost:8080/"
        },
        "id": "AkqVc7n5WubG",
        "outputId": "ce74bf2d-2fc8-4506-826e-b5577b105ea2"
      },
      "execution_count": null,
      "outputs": [
        {
          "output_type": "stream",
          "name": "stdout",
          "text": [
            "11.5\n"
          ]
        }
      ]
    },
    {
      "cell_type": "code",
      "source": [
        "#convert string to boolean\n",
        "string_value=\"true\"\n",
        "boolean_value=bool(string_value)\n",
        "print(boolean_value)"
      ],
      "metadata": {
        "colab": {
          "base_uri": "https://localhost:8080/"
        },
        "id": "qFuZjF4bW8k1",
        "outputId": "649f0689-ff7a-4377-af63-2a905906f6ac"
      },
      "execution_count": null,
      "outputs": [
        {
          "output_type": "stream",
          "name": "stdout",
          "text": [
            "True\n"
          ]
        }
      ]
    },
    {
      "cell_type": "markdown",
      "source": [
        "#10.Write code to demonstrate type casting with list elements."
      ],
      "metadata": {
        "id": "Ojpq8tOkXKbV"
      }
    },
    {
      "cell_type": "code",
      "source": [
        "#Create a list with elements of different types\n",
        "my_list=[3,5.5,\"6\",True,]\n",
        "\n",
        "#Convert the element to a float\n",
        "my_list[0]=float(my_list[0])\n",
        "\n",
        "#Convert the sencond elements to an integer\n",
        "my_list[1]=int(my_list[1])\n",
        "\n",
        "#Convert the third element to a boolean\n",
        "my_list[3]=bool(my_list[3])\n",
        "\n",
        "#Convert the fourth element to a string\n",
        "my_list[3]=str(my_list[3])\n",
        "\n",
        "#Print the modified list\n",
        "print(my_list)"
      ],
      "metadata": {
        "colab": {
          "base_uri": "https://localhost:8080/"
        },
        "id": "O1uUVL19Xw3F",
        "outputId": "aa3224c8-12c4-48e8-ec6e-a1aae43b1d20"
      },
      "execution_count": null,
      "outputs": [
        {
          "output_type": "stream",
          "name": "stdout",
          "text": [
            "[3.0, 5, '6', 'True']\n"
          ]
        }
      ]
    },
    {
      "cell_type": "markdown",
      "source": [
        "#11.Write a program to check if a number is positive, negative,or zero."
      ],
      "metadata": {
        "id": "5N6dsxVgZN68"
      }
    },
    {
      "cell_type": "code",
      "source": [
        "#python program to check whether the number is positive, negative or equal to zero\n",
        "def check (n):\n",
        "  #if the number is positive\n",
        "  if n>0:\n",
        "    print(\"positive\")\n",
        "\n",
        "  #if the number is negative\n",
        "  elif n<0:\n",
        "    print(\"negative\")\n",
        "\n",
        "  #if the number is equal to zero\n",
        "  else:\n",
        "    print(\"equal to zero\")\n"
      ],
      "metadata": {
        "id": "k_NB-PacZrV9"
      },
      "execution_count": null,
      "outputs": []
    },
    {
      "cell_type": "markdown",
      "source": [
        "#12.Write a for loop to print number from 1 to 10."
      ],
      "metadata": {
        "id": "kX5hlR2NbQAS"
      }
    },
    {
      "cell_type": "code",
      "source": [
        "#loop to print number from 1 to 11.\n",
        "\n",
        "for i in range(1,11):\n",
        "  print(i)"
      ],
      "metadata": {
        "colab": {
          "base_uri": "https://localhost:8080/"
        },
        "id": "KcGIeqeWb-p_",
        "outputId": "430ef033-4d1d-40b4-af72-4383298979cb"
      },
      "execution_count": null,
      "outputs": [
        {
          "output_type": "stream",
          "name": "stdout",
          "text": [
            "1\n",
            "2\n",
            "3\n",
            "4\n",
            "5\n",
            "6\n",
            "7\n",
            "8\n",
            "9\n",
            "10\n"
          ]
        }
      ]
    },
    {
      "cell_type": "markdown",
      "source": [
        "#13.Write a python program to find the sum of all even numbers between 1 and 50."
      ],
      "metadata": {
        "id": "Yc_E-2P_dAwT"
      }
    },
    {
      "cell_type": "code",
      "source": [
        "# the sum of all even numbers between 1 and 50\n",
        "n=int(input(\"enter number upto which you want to add even number\"))\n",
        "i=2\n",
        "sum=0\n",
        "while(i<n):\n",
        "  sum=sum+i\n",
        "  i=i+2\n",
        "print(\"sum of even number=\",sum)"
      ],
      "metadata": {
        "colab": {
          "base_uri": "https://localhost:8080/"
        },
        "id": "fWbB9jUcdPPI",
        "outputId": "27ffad4b-06d6-4edb-9e37-dbdc37b6e91b"
      },
      "execution_count": null,
      "outputs": [
        {
          "output_type": "stream",
          "name": "stdout",
          "text": [
            "enter number upto which you want to add even number50\n",
            "sum of even number= 600\n"
          ]
        }
      ]
    },
    {
      "cell_type": "markdown",
      "source": [
        "#14. Write a program to reverse a string using a while loop."
      ],
      "metadata": {
        "id": "SRF42vvPebdj"
      }
    },
    {
      "cell_type": "code",
      "source": [
        "#reverse a string using while loop\n",
        "string= \" python \"\n",
        "rev_string=\"\"\n",
        "lenght= len(string)-1\n",
        "while lenght >=0:\n",
        "  rev_string+=string[lenght]\n",
        "  lenght-=1\n",
        "print(rev_string)"
      ],
      "metadata": {
        "colab": {
          "base_uri": "https://localhost:8080/"
        },
        "id": "DzRRjkpBelLj",
        "outputId": "0747c7d1-83ca-4e56-aefa-15b7a8551d09"
      },
      "execution_count": null,
      "outputs": [
        {
          "output_type": "stream",
          "name": "stdout",
          "text": [
            " nohtyp \n"
          ]
        }
      ]
    },
    {
      "cell_type": "markdown",
      "source": [
        "#15.Write a python program to calculate the factorial of a number provided by the user using a while loop."
      ],
      "metadata": {
        "id": "YggIqs1ogVoC"
      }
    },
    {
      "cell_type": "code",
      "source": [
        "#factorial\n",
        "def factorial(n):\n",
        "  num = 1\n",
        "  while n > 1:\n",
        "    num *= n\n",
        "    n -= 1\n",
        "  return num"
      ],
      "metadata": {
        "id": "RWtvKKorgqdo"
      },
      "execution_count": null,
      "outputs": []
    },
    {
      "cell_type": "code",
      "source": [
        "f = factorial (5)\n",
        "print (f)"
      ],
      "metadata": {
        "colab": {
          "base_uri": "https://localhost:8080/"
        },
        "id": "ihDpU1fihS-y",
        "outputId": "3889dd30-635b-481c-d94b-831cc8eb3740"
      },
      "execution_count": null,
      "outputs": [
        {
          "output_type": "stream",
          "name": "stdout",
          "text": [
            "120\n"
          ]
        }
      ]
    }
  ],
  "metadata": {
    "colab": {
      "toc_visible": true,
      "provenance": []
    },
    "kernelspec": {
      "display_name": "Python 3",
      "name": "python3"
    }
  },
  "nbformat": 4,
  "nbformat_minor": 0
}